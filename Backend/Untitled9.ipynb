{
  "cells": [
    {
      "cell_type": "code",
      "execution_count": 1,
      "metadata": {
        "colab": {
          "base_uri": "https://localhost:8080/"
        },
        "id": "e46fmH6X7AjJ",
        "outputId": "50a32cb6-7879-45e8-de12-42038e8bf7f7"
      },
      "outputs": [
        {
          "name": "stdout",
          "output_type": "stream",
          "text": [
            "Collecting gtts\n",
            "  Downloading gTTS-2.5.4-py3-none-any.whl.metadata (4.1 kB)\n",
            "Requirement already satisfied: requests<3,>=2.27 in c:\\users\\user\\anaconda3\\lib\\site-packages (from gtts) (2.32.3)\n",
            "Collecting click<8.2,>=7.1 (from gtts)\n",
            "  Downloading click-8.1.8-py3-none-any.whl.metadata (2.3 kB)\n",
            "Requirement already satisfied: colorama in c:\\users\\user\\appdata\\roaming\\python\\python313\\site-packages (from click<8.2,>=7.1->gtts) (0.4.6)\n",
            "Requirement already satisfied: charset-normalizer<4,>=2 in c:\\users\\user\\anaconda3\\lib\\site-packages (from requests<3,>=2.27->gtts) (3.3.2)\n",
            "Requirement already satisfied: idna<4,>=2.5 in c:\\users\\user\\appdata\\roaming\\python\\python313\\site-packages (from requests<3,>=2.27->gtts) (3.10)\n",
            "Requirement already satisfied: urllib3<3,>=1.21.1 in c:\\users\\user\\anaconda3\\lib\\site-packages (from requests<3,>=2.27->gtts) (2.3.0)\n",
            "Requirement already satisfied: certifi>=2017.4.17 in c:\\users\\user\\anaconda3\\lib\\site-packages (from requests<3,>=2.27->gtts) (2025.7.14)\n",
            "Downloading gTTS-2.5.4-py3-none-any.whl (29 kB)\n",
            "Downloading click-8.1.8-py3-none-any.whl (98 kB)\n",
            "Installing collected packages: click, gtts\n",
            "\n",
            "  Attempting uninstall: click\n",
            "\n",
            "    Found existing installation: click 8.2.1\n",
            "\n",
            "    Uninstalling click-8.2.1:\n",
            "\n",
            "      Successfully uninstalled click-8.2.1\n",
            "\n",
            "   ---------------------------------------- 0/2 [click]\n",
            "   ---------------------------------------- 2/2 [gtts]\n",
            "\n",
            "Successfully installed click-8.1.8 gtts-2.5.4\n"
          ]
        },
        {
          "name": "stderr",
          "output_type": "stream",
          "text": [
            "ERROR: pip's dependency resolver does not currently take into account all the packages that are installed. This behaviour is the source of the following dependency conflicts.\n",
            "spyder 6.0.7 requires ipython!=8.17.1,<9.0.0,>=8.13.0; python_version > \"3.8\", but you have ipython 9.4.0 which is incompatible.\n",
            "streamlit 1.45.1 requires packaging<25,>=20, but you have packaging 25.0 which is incompatible.\n"
          ]
        }
      ],
      "source": [
        "!pip install gtts"
      ]
    },
    {
      "cell_type": "code",
      "execution_count": null,
      "metadata": {
        "colab": {
          "base_uri": "https://localhost:8080/",
          "height": 1000
        },
        "id": "wtfpGHM36tG7",
        "outputId": "506ea760-8b76-4c9d-c625-a053fb032217"
      },
      "outputs": [
        {
          "name": "stdout",
          "output_type": "stream",
          "text": [
            "Welcome to the Trust and Financial Advisor!\n"
          ]
        },
        {
          "data": {
            "text/html": [
              "\n",
              "                <audio  controls=\"controls\" autoplay=\"autoplay\">\n",
              "                    <source src=\"data:audio/mpeg;base64,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\" type=\"audio/mpeg\" />\n",
              "                    Your browser does not support the audio element.\n",
              "                </audio>\n",
              "              "
            ],
            "text/plain": [
              "<IPython.lib.display.Audio object>"
            ]
          },
          "metadata": {},
          "output_type": "display_data"
        }
      ],
      "source": [
        "\n",
        "\n",
        "from gtts import gTTS\n",
        "from IPython.display import Audio, display\n",
        "import time\n",
        "import os\n",
        "\n",
        "# ----------------- Functions -----------------\n",
        "def speak(text, lang='en', filename=\"voice.mp3\"):\n",
        "    \"\"\"Generate speech from text and play sequentially in Colab\"\"\"\n",
        "    tts = gTTS(text=text, lang=lang)\n",
        "    tts.save(filename)\n",
        "    display(Audio(filename, autoplay=True))\n",
        "    time.sleep(len(text) * 0.06)  # Approx wait based on text length\n",
        "    os.remove(filename)\n",
        "\n",
        "def slow_print(text, delay=0.03, voice=True):\n",
        "    \"\"\"Print text slowly and optionally speak it\"\"\"\n",
        "    for char in text:\n",
        "        print(char, end='', flush=True)\n",
        "        time.sleep(delay)\n",
        "    print()\n",
        "    if voice:\n",
        "        speak(text)\n",
        "\n",
        "def get_risk_profile():\n",
        "    slow_print(\"Let's determine your risk tolerance...\")\n",
        "    print(\"1. Low Risk\")\n",
        "    print(\"2. Medium Risk\")\n",
        "    print(\"3. High Risk\")\n",
        "    choice = input(\"Enter 1, 2, or 3: \")\n",
        "    if choice == '1':\n",
        "        slow_print(\"You are conservative and prefer safety.\")\n",
        "        return 'low'\n",
        "    elif choice == '2':\n",
        "        slow_print(\"You are balanced and open to moderate risk.\")\n",
        "        return 'medium'\n",
        "    elif choice == '3':\n",
        "        slow_print(\"You are aggressive and prefer high-risk investments.\")\n",
        "        return 'high'\n",
        "    else:\n",
        "        slow_print(\"Invalid input, assuming medium risk.\")\n",
        "        return 'medium'\n",
        "\n",
        "def get_trust_advice(age, savings, dependents):\n",
        "    \"\"\"Provide trust and estate planning advice\"\"\"\n",
        "    trust_advice = []\n",
        "    if dependents > 0:\n",
        "        trust_advice.append(\"Consider setting up a family trust to protect assets for your dependents.\")\n",
        "        trust_advice.append(\"Make sure you have a valid will to ensure smooth transfer of wealth.\")\n",
        "    if savings > 50000:\n",
        "        trust_advice.append(\"Explore estate planning strategies to reduce tax burdens on inheritance.\")\n",
        "    if age > 40:\n",
        "        trust_advice.append(\"Review life insurance and health insurance policies to safeguard your family.\")\n",
        "    return trust_advice\n",
        "\n",
        "def get_financial_advice(income, expenses, savings, debt, risk_profile, age):\n",
        "    disposable_income = income - expenses - debt\n",
        "    advice = []\n",
        "\n",
        "    # Emergency fund\n",
        "    if savings < 3 * expenses:\n",
        "        advice.append(\"Build an emergency fund of at least three months of expenses.\")\n",
        "\n",
        "    # Debt management\n",
        "    if debt > 0:\n",
        "        advice.append(f\"Focus on reducing your debt of {debt}. Prioritize high-interest debts first.\")\n",
        "\n",
        "    # Investment advice\n",
        "    if risk_profile == 'low':\n",
        "        advice.append(\"Invest in low-risk assets like government bonds or fixed deposits.\")\n",
        "    elif risk_profile == 'medium':\n",
        "        advice.append(\"Maintain a balanced portfolio with stocks, ETFs, bonds, and mutual funds.\")\n",
        "    else:\n",
        "        advice.append(\"Consider aggressive investments such as stocks, ETFs, or real estate for higher returns.\")\n",
        "\n",
        "    # Retirement planning\n",
        "    if age < 30:\n",
        "        advice.append(\"Start retirement savings early with long-term growth funds or retirement accounts.\")\n",
        "    elif age < 50:\n",
        "        advice.append(\"Focus on building wealth and balancing retirement contributions with investments.\")\n",
        "    else:\n",
        "        advice.append(\"Prioritize safe investments and ensure you are on track for retirement.\")\n",
        "\n",
        "    # Budgeting & saving\n",
        "    if disposable_income > 0:\n",
        "        advice.append(f\"Save or invest approximately {int(disposable_income * 0.3)} per month for your goals.\")\n",
        "    else:\n",
        "        advice.append(\"Expenses and debt exceed income. Review your budget carefully.\")\n",
        "\n",
        "    # Short-term vs long-term goals\n",
        "    advice.append(\"For short-term goals under three years, use safe, liquid options like savings accounts.\")\n",
        "    advice.append(\"For long-term goals over five years, diversify into stocks, ETFs, or index funds for growth.\")\n",
        "\n",
        "    return advice\n",
        "\n",
        "# ----------------- Main Program -----------------\n",
        "slow_print(\"Welcome to the Trust and Financial Advisor!\")\n",
        "\n",
        "income = float(input(\"Enter your monthly income: \"))\n",
        "expenses = float(input(\"Enter your monthly expenses: \"))\n",
        "savings = float(input(\"Enter your current savings: \"))\n",
        "debt = float(input(\"Enter your monthly debt repayments (if any, else 0): \"))\n",
        "age = int(input(\"Enter your age: \"))\n",
        "dependents = int(input(\"Enter number of dependents (children, spouse, etc.): \"))\n",
        "\n",
        "risk_profile = get_risk_profile()\n",
        "financial_advice = get_financial_advice(income, expenses, savings, debt, risk_profile, age)\n",
        "trust_advice = get_trust_advice(age, savings, dependents)\n",
        "\n",
        "slow_print(\"\\nHere is your comprehensive financial advice:\")\n",
        "for idx, advice in enumerate(financial_advice, 1):\n",
        "    slow_print(f\"Advice {idx}: {advice}\")\n",
        "\n",
        "slow_print(\"\\nHere is your trust and wealth protection advice:\")\n",
        "for idx, advice in enumerate(trust_advice, 1):\n",
        "    slow_print(f\"Trust Advice {idx}: {advice}\")\n",
        "\n",
        "slow_print(\"\\nThank you for using the Trust and Financial Advisor!\")\n",
        "# ----------------- End of Program -----------------"
      ]
    }
  ],
  "metadata": {
    "colab": {
      "provenance": []
    },
    "kernelspec": {
      "display_name": "base",
      "language": "python",
      "name": "python3"
    },
    "language_info": {
      "codemirror_mode": {
        "name": "ipython",
        "version": 3
      },
      "file_extension": ".py",
      "mimetype": "text/x-python",
      "name": "python",
      "nbconvert_exporter": "python",
      "pygments_lexer": "ipython3",
      "version": "3.13.5"
    }
  },
  "nbformat": 4,
  "nbformat_minor": 0
}
